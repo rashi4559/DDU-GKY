{
 "cells": [
  {
   "cell_type": "code",
   "execution_count": 1,
   "id": "9b59f742",
   "metadata": {},
   "outputs": [
    {
     "name": "stdout",
     "output_type": "stream",
     "text": [
      "11\n"
     ]
    }
   ],
   "source": [
    "a=5\n",
    "b=6\n",
    "c=a+b\n",
    "print(c)"
   ]
  },
  {
   "cell_type": "code",
   "execution_count": 6,
   "id": "c92c098e",
   "metadata": {},
   "outputs": [
    {
     "name": "stdout",
     "output_type": "stream",
     "text": [
      "30\n"
     ]
    }
   ],
   "source": [
    "print(a*b)"
   ]
  },
  {
   "cell_type": "code",
   "execution_count": 7,
   "id": "6e90cfc6",
   "metadata": {},
   "outputs": [
    {
     "name": "stdout",
     "output_type": "stream",
     "text": [
      "5 6 7\n"
     ]
    }
   ],
   "source": [
    "a1=5\n",
    "b1=6\n",
    "c1=7\n",
    "print(a1,b1,c1)"
   ]
  },
  {
   "cell_type": "code",
   "execution_count": 8,
   "id": "ae90e7a1",
   "metadata": {},
   "outputs": [
    {
     "name": "stdout",
     "output_type": "stream",
     "text": [
      "5 6 7\n"
     ]
    }
   ],
   "source": [
    "a2,b2,c2=5,6,7\n",
    "print(a2,b2,c2)"
   ]
  },
  {
   "cell_type": "code",
   "execution_count": 9,
   "id": "52aaf4ab",
   "metadata": {},
   "outputs": [
    {
     "name": "stdout",
     "output_type": "stream",
     "text": [
      "5 5 5\n"
     ]
    }
   ],
   "source": [
    "a3=b3=c3=5\n",
    "print(a3,b3,c3)"
   ]
  },
  {
   "cell_type": "code",
   "execution_count": 12,
   "id": "3643acdf",
   "metadata": {},
   "outputs": [
    {
     "name": "stdout",
     "output_type": "stream",
     "text": [
      "5 , 5 , 5\n"
     ]
    }
   ],
   "source": [
    "print(a3,\",\",b3,\",\",c3)"
   ]
  },
  {
   "cell_type": "code",
   "execution_count": 16,
   "id": "6a2a7d65",
   "metadata": {},
   "outputs": [
    {
     "name": "stdout",
     "output_type": "stream",
     "text": [
      "muhammed rashid\n"
     ]
    }
   ],
   "source": [
    "name = \"muhammed rashid\"\n",
    "print(name)\n"
   ]
  },
  {
   "cell_type": "code",
   "execution_count": 19,
   "id": "4a5f8fe8",
   "metadata": {},
   "outputs": [
    {
     "name": "stdout",
     "output_type": "stream",
     "text": [
      "m\n"
     ]
    }
   ],
   "source": [
    "print(name[0])"
   ]
  },
  {
   "cell_type": "code",
   "execution_count": 24,
   "id": "1878c69e",
   "metadata": {},
   "outputs": [
    {
     "name": "stdout",
     "output_type": "stream",
     "text": [
      "u [5]\n"
     ]
    }
   ],
   "source": [
    "print(name[1],[5])"
   ]
  },
  {
   "cell_type": "code",
   "execution_count": 28,
   "id": "1952327c",
   "metadata": {},
   "outputs": [
    {
     "name": "stdout",
     "output_type": "stream",
     "text": [
      "muhammed\n"
     ]
    }
   ],
   "source": [
    "print(name[0:8])"
   ]
  },
  {
   "cell_type": "code",
   "execution_count": 29,
   "id": "0a653b3a",
   "metadata": {},
   "outputs": [
    {
     "name": "stdout",
     "output_type": "stream",
     "text": [
      " rashid\n"
     ]
    }
   ],
   "source": [
    "print(name[8:])"
   ]
  },
  {
   "cell_type": "code",
   "execution_count": 30,
   "id": "88bc090e",
   "metadata": {},
   "outputs": [
    {
     "name": "stdout",
     "output_type": "stream",
     "text": [
      "muhammed\n"
     ]
    }
   ],
   "source": [
    "print(name[:8])"
   ]
  },
  {
   "cell_type": "code",
   "execution_count": 31,
   "id": "5418b84b",
   "metadata": {},
   "outputs": [
    {
     "name": "stdout",
     "output_type": "stream",
     "text": [
      "MUHAMMED RASHID\n"
     ]
    }
   ],
   "source": [
    "print(name.upper())"
   ]
  },
  {
   "cell_type": "code",
   "execution_count": 32,
   "id": "07f09ca8",
   "metadata": {},
   "outputs": [
    {
     "name": "stdout",
     "output_type": "stream",
     "text": [
      "muhammed rashid\n"
     ]
    }
   ],
   "source": [
    "print(name.lower())"
   ]
  },
  {
   "cell_type": "code",
   "execution_count": null,
   "id": "7f4149dc",
   "metadata": {},
   "outputs": [],
   "source": []
  }
 ],
 "metadata": {
  "kernelspec": {
   "display_name": "Python 3 (ipykernel)",
   "language": "python",
   "name": "python3"
  },
  "language_info": {
   "codemirror_mode": {
    "name": "ipython",
    "version": 3
   },
   "file_extension": ".py",
   "mimetype": "text/x-python",
   "name": "python",
   "nbconvert_exporter": "python",
   "pygments_lexer": "ipython3",
   "version": "3.9.13"
  }
 },
 "nbformat": 4,
 "nbformat_minor": 5
}
