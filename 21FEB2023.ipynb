{
 "cells": [
  {
   "cell_type": "markdown",
   "id": "1413fa72",
   "metadata": {},
   "source": [
    "# DICTIONARY"
   ]
  },
  {
   "cell_type": "code",
   "execution_count": 1,
   "id": "323aa526",
   "metadata": {},
   "outputs": [
    {
     "name": "stdout",
     "output_type": "stream",
     "text": [
      "{'name': 'rashid', 'age': '21', 'address': 'abcde'}\n"
     ]
    }
   ],
   "source": [
    "dict1={'name': 'rashid',\n",
    "     'age': '21',\n",
    "     'address': 'abcde'}\n",
    "print(dict1)"
   ]
  },
  {
   "cell_type": "code",
   "execution_count": 2,
   "id": "ed335df3",
   "metadata": {},
   "outputs": [
    {
     "name": "stdout",
     "output_type": "stream",
     "text": [
      "21\n"
     ]
    }
   ],
   "source": [
    "print(dict1[\"age\"])\n"
   ]
  },
  {
   "cell_type": "code",
   "execution_count": 3,
   "id": "e03afe77",
   "metadata": {},
   "outputs": [
    {
     "name": "stdout",
     "output_type": "stream",
     "text": [
      "rashid\n"
     ]
    }
   ],
   "source": [
    "print(dict1[\"name\"])"
   ]
  },
  {
   "cell_type": "code",
   "execution_count": 4,
   "id": "aa4e0e78",
   "metadata": {},
   "outputs": [
    {
     "name": "stdout",
     "output_type": "stream",
     "text": [
      "abcde\n"
     ]
    }
   ],
   "source": [
    "print(dict1[\"address\"])"
   ]
  },
  {
   "cell_type": "markdown",
   "id": "4ae9d36d",
   "metadata": {},
   "source": [
    "# get method"
   ]
  },
  {
   "cell_type": "code",
   "execution_count": 5,
   "id": "ac45c34e",
   "metadata": {},
   "outputs": [
    {
     "name": "stdout",
     "output_type": "stream",
     "text": [
      "rashid\n"
     ]
    }
   ],
   "source": [
    "print(dict1.get('name'))"
   ]
  },
  {
   "cell_type": "code",
   "execution_count": 6,
   "id": "f94e1eb1",
   "metadata": {},
   "outputs": [],
   "source": [
    "###adding to dictionary"
   ]
  },
  {
   "cell_type": "code",
   "execution_count": 7,
   "id": "f2941e3b",
   "metadata": {},
   "outputs": [],
   "source": [
    "dict1['phone']=\"8304853523\"\n",
    "dict1['place']=\"malappuram\""
   ]
  },
  {
   "cell_type": "code",
   "execution_count": 8,
   "id": "9fca8447",
   "metadata": {},
   "outputs": [
    {
     "name": "stdout",
     "output_type": "stream",
     "text": [
      "{'name': 'rashid', 'age': '21', 'address': 'abcde', 'phone': '8304853523', 'place': 'malappuram'}\n"
     ]
    }
   ],
   "source": [
    "print(dict1)"
   ]
  },
  {
   "cell_type": "code",
   "execution_count": 9,
   "id": "c3a85ac3",
   "metadata": {},
   "outputs": [
    {
     "name": "stdout",
     "output_type": "stream",
     "text": [
      "name\n",
      "age\n",
      "address\n",
      "phone\n",
      "place\n"
     ]
    }
   ],
   "source": [
    "for x in dict1:\n",
    "    print(x)"
   ]
  },
  {
   "cell_type": "code",
   "execution_count": 13,
   "id": "dc221e49",
   "metadata": {},
   "outputs": [
    {
     "name": "stdout",
     "output_type": "stream",
     "text": [
      "5\n"
     ]
    }
   ],
   "source": [
    "print(len(dict1))"
   ]
  },
  {
   "cell_type": "code",
   "execution_count": 14,
   "id": "8be59b39",
   "metadata": {},
   "outputs": [
    {
     "data": {
      "text/plain": [
       "'abcde'"
      ]
     },
     "execution_count": 14,
     "metadata": {},
     "output_type": "execute_result"
    }
   ],
   "source": [
    "dict1.pop(\"address\")"
   ]
  },
  {
   "cell_type": "code",
   "execution_count": 15,
   "id": "782b266f",
   "metadata": {},
   "outputs": [
    {
     "name": "stdout",
     "output_type": "stream",
     "text": [
      "{'name': 'rashid', 'age': '21', 'phone': '8304853523', 'place': 'malappuram'}\n"
     ]
    }
   ],
   "source": [
    "print(dict1)"
   ]
  },
  {
   "cell_type": "code",
   "execution_count": 16,
   "id": "3a21fa5a",
   "metadata": {},
   "outputs": [],
   "source": [
    "del dict1['place']"
   ]
  },
  {
   "cell_type": "code",
   "execution_count": 17,
   "id": "53b175fc",
   "metadata": {},
   "outputs": [
    {
     "name": "stdout",
     "output_type": "stream",
     "text": [
      "{'name': 'rashid', 'age': '21', 'phone': '8304853523'}\n"
     ]
    }
   ],
   "source": [
    "print(dict1)"
   ]
  },
  {
   "cell_type": "code",
   "execution_count": null,
   "id": "5e96979f",
   "metadata": {},
   "outputs": [],
   "source": []
  }
 ],
 "metadata": {
  "kernelspec": {
   "display_name": "Python 3 (ipykernel)",
   "language": "python",
   "name": "python3"
  },
  "language_info": {
   "codemirror_mode": {
    "name": "ipython",
    "version": 3
   },
   "file_extension": ".py",
   "mimetype": "text/x-python",
   "name": "python",
   "nbconvert_exporter": "python",
   "pygments_lexer": "ipython3",
   "version": "3.9.13"
  }
 },
 "nbformat": 4,
 "nbformat_minor": 5
}
