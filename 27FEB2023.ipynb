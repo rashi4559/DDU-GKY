{
 "cells": [
  {
   "cell_type": "markdown",
   "id": "4c3f852e",
   "metadata": {},
   "source": [
    "# list"
   ]
  },
  {
   "cell_type": "code",
   "execution_count": 4,
   "id": "aa47d030",
   "metadata": {},
   "outputs": [
    {
     "name": "stdout",
     "output_type": "stream",
     "text": [
      "['rashi', 'rashid', 'me']\n"
     ]
    }
   ],
   "source": [
    "list1=[\"rashi\",\"rashid\",\"me\"]\n",
    "print(list1)"
   ]
  },
  {
   "cell_type": "code",
   "execution_count": 5,
   "id": "91d5cc7b",
   "metadata": {},
   "outputs": [
    {
     "name": "stdout",
     "output_type": "stream",
     "text": [
      "rashid\n"
     ]
    }
   ],
   "source": [
    "print(list1[1])"
   ]
  },
  {
   "cell_type": "code",
   "execution_count": 13,
   "id": "91ee0c39",
   "metadata": {},
   "outputs": [],
   "source": [
    "list1[0]=6"
   ]
  },
  {
   "cell_type": "code",
   "execution_count": 15,
   "id": "d55a1a38",
   "metadata": {},
   "outputs": [
    {
     "name": "stdout",
     "output_type": "stream",
     "text": [
      "[6, 'rashid', 'me']\n"
     ]
    }
   ],
   "source": [
    "print(list1)"
   ]
  },
  {
   "cell_type": "code",
   "execution_count": 16,
   "id": "a857b35e",
   "metadata": {},
   "outputs": [],
   "source": [
    "###adding to list\n"
   ]
  },
  {
   "cell_type": "code",
   "execution_count": 17,
   "id": "fdad3ec6",
   "metadata": {},
   "outputs": [],
   "source": [
    "list2=[1,2,3,4]"
   ]
  },
  {
   "cell_type": "code",
   "execution_count": 18,
   "id": "6f0de646",
   "metadata": {},
   "outputs": [],
   "source": [
    "list3=list1+list2"
   ]
  },
  {
   "cell_type": "code",
   "execution_count": 19,
   "id": "634fe961",
   "metadata": {},
   "outputs": [
    {
     "name": "stdout",
     "output_type": "stream",
     "text": [
      "[6, 'rashid', 'me', 1, 2, 3, 4]\n"
     ]
    }
   ],
   "source": [
    "print(list3)"
   ]
  },
  {
   "cell_type": "code",
   "execution_count": 20,
   "id": "79496175",
   "metadata": {},
   "outputs": [],
   "source": [
    "###printing one by one "
   ]
  },
  {
   "cell_type": "code",
   "execution_count": 26,
   "id": "f8ecbb03",
   "metadata": {},
   "outputs": [
    {
     "name": "stdout",
     "output_type": "stream",
     "text": [
      "6\n",
      "rashid\n",
      "me\n"
     ]
    }
   ],
   "source": [
    "for i in list1:\n",
    "      print(i)"
   ]
  },
  {
   "cell_type": "code",
   "execution_count": 27,
   "id": "0f94cb71",
   "metadata": {},
   "outputs": [],
   "source": [
    "list1.append(\"you\")"
   ]
  },
  {
   "cell_type": "code",
   "execution_count": 28,
   "id": "74655bef",
   "metadata": {},
   "outputs": [
    {
     "name": "stdout",
     "output_type": "stream",
     "text": [
      "[6, 'rashid', 'me', 'you']\n"
     ]
    }
   ],
   "source": [
    "print(list1)"
   ]
  },
  {
   "cell_type": "code",
   "execution_count": 30,
   "id": "0eea8c89",
   "metadata": {},
   "outputs": [],
   "source": [
    "list2.insert(2,\"s\")"
   ]
  },
  {
   "cell_type": "code",
   "execution_count": 31,
   "id": "c2d7ba36",
   "metadata": {},
   "outputs": [
    {
     "name": "stdout",
     "output_type": "stream",
     "text": [
      "[1, 2, 's', 3, 4]\n"
     ]
    }
   ],
   "source": [
    "print(list2)"
   ]
  },
  {
   "cell_type": "code",
   "execution_count": 32,
   "id": "a9e480a5",
   "metadata": {},
   "outputs": [
    {
     "data": {
      "text/plain": [
       "7"
      ]
     },
     "execution_count": 32,
     "metadata": {},
     "output_type": "execute_result"
    }
   ],
   "source": [
    "len(list3)"
   ]
  },
  {
   "cell_type": "code",
   "execution_count": 33,
   "id": "69867ca4",
   "metadata": {},
   "outputs": [],
   "source": [
    "###condition apply "
   ]
  },
  {
   "cell_type": "code",
   "execution_count": 37,
   "id": "1969a621",
   "metadata": {},
   "outputs": [],
   "source": [
    "if 5 in list2:\n",
    "    print(5)"
   ]
  },
  {
   "cell_type": "code",
   "execution_count": null,
   "id": "88fe1911",
   "metadata": {},
   "outputs": [],
   "source": []
  }
 ],
 "metadata": {
  "kernelspec": {
   "display_name": "Python 3 (ipykernel)",
   "language": "python",
   "name": "python3"
  },
  "language_info": {
   "codemirror_mode": {
    "name": "ipython",
    "version": 3
   },
   "file_extension": ".py",
   "mimetype": "text/x-python",
   "name": "python",
   "nbconvert_exporter": "python",
   "pygments_lexer": "ipython3",
   "version": "3.9.13"
  }
 },
 "nbformat": 4,
 "nbformat_minor": 5
}
